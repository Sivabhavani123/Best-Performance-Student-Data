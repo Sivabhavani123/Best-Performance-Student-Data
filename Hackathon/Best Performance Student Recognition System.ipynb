{
 "cells": [
  {
   "cell_type": "code",
   "execution_count": 1,
   "id": "69427806",
   "metadata": {},
   "outputs": [],
   "source": [
    "import pandas as pd\n",
    "import numpy as np\n",
    "\n",
    "np.random.seed(42)\n",
    "\n",
    "dataset = {\n",
    "    'Student ID': range(1, 101),\n",
    "    'Name': [f'Student {i}' for i in range(1, 101)],\n",
    "    'Academic Performance': np.random.uniform(60, 100, 100),\n",
    "    'Consistency': np.random.uniform(5, 10, 100),\n",
    "    'Core Courses': np.random.uniform(70, 100, 100),\n",
    "    'Hackathons': np.random.randint(0, 5, 100),\n",
    "    'Paper Presentations': np.random.randint(0, 5, 100),\n",
    "    'Contributions': np.random.uniform(5, 30, 100)\n",
    "}\n",
    "\n",
    "data_frame = pd.DataFrame(dataset)\n",
    "\n",
    "data_frame.to_csv('Student_data.csv', index=False)\n"
   ]
  },
  {
   "cell_type": "code",
   "execution_count": 3,
   "id": "f00a2de2",
   "metadata": {},
   "outputs": [
    {
     "name": "stdout",
     "output_type": "stream",
     "text": [
      "    Student ID  Rank\n",
      "99         100   100\n",
      "98          99    99\n",
      "18          19    98\n"
     ]
    }
   ],
   "source": [
    "from sklearn.model_selection import train_test_split\n",
    "from sklearn.ensemble import RandomForestClassifier\n",
    "from sklearn.metrics import accuracy_score\n",
    "from sklearn.preprocessing import MinMaxScaler\n",
    "X = data_frame[['Academic Performance', 'Consistency', 'Core Courses', 'Hackathons', 'Paper Presentations', 'Contributions']]\n",
    "y = data_frame['Student ID']\n",
    "\n",
    "# Scale features using Min-Max Scaler\n",
    "scaler = MinMaxScaler()\n",
    "X_scaled = scaler.fit_transform(X)\n",
    "\n",
    "# Train Random Forest Classifier\n",
    "X_train, X_test, y_train, y_test = train_test_split(X_scaled, y, test_size=0.2, random_state=42)\n",
    "random_forest_classifier = RandomForestClassifier(n_estimators=100, random_state=42)\n",
    "random_forest_classifier.fit(X_train, y_train)\n",
    "\n",
    "# Predict rankings\n",
    "y_pred = random_forest_classifier.predict(X_test)\n",
    "\n",
    "\n",
    "# Define function to calculate student rankings\n",
    "def calculate_rankings(data_frame):\n",
    "    rankings = pd.DataFrame()\n",
    "    rankings['Student ID'] = data_frame['Student ID']\n",
    "    rankings['Rank'] = rfc.predict(scaler.transform(data_frame[['Academic Performance', 'Consistency', 'Core Courses', 'Hackathons', 'Paper Presentations', 'Contributions']]))\n",
    "    return rankings.sort_values('Rank', ascending=False)\n",
    "# Calculate rankings for top 3 students\n",
    "top_3_students = calculate_rankings(data_frame).head(3)\n",
    "print(top_3_students)\n"
   ]
  },
  {
   "cell_type": "code",
   "execution_count": 4,
   "id": "3bc2499b",
   "metadata": {},
   "outputs": [
    {
     "name": "stdout",
     "output_type": "stream",
     "text": [
      "Model Accuracy: 0.00\n"
     ]
    }
   ],
   "source": [
    "#Evaluate model accuracy\n",
    "accuracy = accuracy_score(y_test, y_pred)\n",
    "print(f'Model Accuracy: {accuracy:.2f}')\n"
   ]
  }
 ],
 "metadata": {
  "kernelspec": {
   "display_name": "Python 3 (ipykernel)",
   "language": "python",
   "name": "python3"
  },
  "language_info": {
   "codemirror_mode": {
    "name": "ipython",
    "version": 3
   },
   "file_extension": ".py",
   "mimetype": "text/x-python",
   "name": "python",
   "nbconvert_exporter": "python",
   "pygments_lexer": "ipython3",
   "version": "3.9.12"
  }
 },
 "nbformat": 4,
 "nbformat_minor": 5
}
